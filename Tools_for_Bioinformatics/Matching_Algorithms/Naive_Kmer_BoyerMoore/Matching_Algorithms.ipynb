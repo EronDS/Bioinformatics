{
  "nbformat": 4,
  "nbformat_minor": 0,
  "metadata": {
    "colab": {
      "name": "Matching Algorithms.ipynb",
      "provenance": [],
      "collapsed_sections": [],
      "mount_file_id": "1J7pCSm79WE-NkwLGkZV77RhJnQdGjQpj",
      "authorship_tag": "ABX9TyM5hmnGw8prQPL326J3Nw6k",
      "include_colab_link": true
    },
    "kernelspec": {
      "name": "python3",
      "display_name": "Python 3"
    },
    "language_info": {
      "name": "python"
    }
  },
  "cells": [
    {
      "cell_type": "markdown",
      "metadata": {
        "id": "view-in-github",
        "colab_type": "text"
      },
      "source": [
        "<a href=\"https://colab.research.google.com/github/EronDS/Bioinformatics/blob/main/Tools_for_Bioinformatics/Matching_Algorithms/Naive_Kmer_BoyerMoore/Matching_Algorithms.ipynb\" target=\"_parent\"><img src=\"https://colab.research.google.com/assets/colab-badge.svg\" alt=\"Open In Colab\"/></a>"
      ]
    },
    {
      "cell_type": "code",
      "metadata": {
        "id": "kR5JSPWByu0p",
        "colab": {
          "base_uri": "https://localhost:8080/"
        },
        "outputId": "11119119-03d2-418a-be49-8571fc3452d4"
      },
      "source": [
        "import sys\n",
        "!pip install pybmoore"
      ],
      "execution_count": 1,
      "outputs": [
        {
          "output_type": "stream",
          "name": "stdout",
          "text": [
            "Requirement already satisfied: pybmoore in /usr/local/lib/python3.7/dist-packages (0.1.0)\n"
          ]
        }
      ]
    },
    {
      "cell_type": "code",
      "metadata": {
        "id": "5DgAcO0-y_gH"
      },
      "source": [
        "sys.path.append('/content/drive/MyDrive/Colab Notebooks/Genomics/Matching_Algorithms/Naive_Matching_Algorithm')"
      ],
      "execution_count": 2,
      "outputs": []
    },
    {
      "cell_type": "code",
      "metadata": {
        "id": "uRTVQkOGzRZ2"
      },
      "source": [
        "from main import *"
      ],
      "execution_count": 3,
      "outputs": []
    },
    {
      "cell_type": "code",
      "metadata": {
        "id": "VUfl-THl1gWY"
      },
      "source": [
        "fa = '/content/drive/MyDrive/Colab/lambda_virus.fa'\n",
        "\n",
        "\n",
        "def read_FASTA(filename):\n",
        "    id = ''\n",
        "    genome = ''\n",
        "    with open(filename, 'r') as f:\n",
        "        for line in f:\n",
        "            if line[0] == '>':\n",
        "                id = line.rstrip()\n",
        "            else:\n",
        "                genome += line.rstrip()\n",
        "    \n",
        "    print(id)\n",
        "    print(genome[:30] + '...')\n",
        "    return id,genome\n",
        "\n",
        "            "
      ],
      "execution_count": 4,
      "outputs": []
    },
    {
      "cell_type": "code",
      "metadata": {
        "colab": {
          "base_uri": "https://localhost:8080/"
        },
        "id": "6FVLdbxA2Hcw",
        "outputId": "1a095361-e179-4fe2-fa68-82da37e12984"
      },
      "source": [
        "id,genome = read_FASTA(fa)"
      ],
      "execution_count": 5,
      "outputs": [
        {
          "output_type": "stream",
          "name": "stdout",
          "text": [
            ">gi|9626243|ref|NC_001416.1| Enterobacteria phage lambda, complete genome\n",
            "GGGCGGCGACCTCGCGGGTTTTCGCTATTT...\n"
          ]
        }
      ]
    },
    {
      "cell_type": "markdown",
      "metadata": {
        "id": "j7CoIq5t50xd"
      },
      "source": [
        "## Naive Matching Algorithm"
      ]
    },
    {
      "cell_type": "code",
      "metadata": {
        "colab": {
          "base_uri": "https://localhost:8080/"
        },
        "id": "ldDA6bafzSUv",
        "outputId": "70232cd5-cb1b-499f-91b2-a87954d6967b"
      },
      "source": [
        "p = 'TATATA' \n",
        "T = genome\n",
        "\n",
        "\n",
        "naive_algorithm(p,T)"
      ],
      "execution_count": 6,
      "outputs": [
        {
          "output_type": "stream",
          "name": "stdout",
          "text": [
            "p:TATATA\n",
            "T:GGGCGGCGACCTCGCGGGTTTTCGCTATTT...\n",
            "Exact Matching Index(es):[27210, 28828, 35847, 45401]\n",
            "Best Match: \n",
            "TATATA\n",
            "Best Match: \n",
            "TATATA\n",
            "Best Match: \n",
            "TATATA\n",
            "Best Match: \n",
            "TATATA\n"
          ]
        },
        {
          "output_type": "execute_result",
          "data": {
            "text/plain": [
              "[27210, 28828, 35847, 45401]"
            ]
          },
          "metadata": {},
          "execution_count": 6
        }
      ]
    },
    {
      "cell_type": "markdown",
      "metadata": {
        "id": "mNcF07nm5u2k"
      },
      "source": [
        "## Boyer-Moore Algorithm (Bad and Good Characters)"
      ]
    },
    {
      "cell_type": "code",
      "metadata": {
        "id": "SYYqVXlP3V3-"
      },
      "source": [
        "import pybmoore"
      ],
      "execution_count": 7,
      "outputs": []
    },
    {
      "cell_type": "code",
      "metadata": {
        "colab": {
          "base_uri": "https://localhost:8080/"
        },
        "id": "od3tlVr-4Bzz",
        "outputId": "36602713-f548-42d0-a1dd-a3da64645901"
      },
      "source": [
        "boyer_moore = pybmoore.search(p,T)\n",
        "print(len(boyer_moore))\n",
        "\n",
        "\n",
        "for x, y in boyer_moore:\n",
        "    print(f\"({x},{y}) - {T[x:y]}\")"
      ],
      "execution_count": 8,
      "outputs": [
        {
          "output_type": "stream",
          "name": "stdout",
          "text": [
            "3\n",
            "(28828,28834) - TATATA\n",
            "(35847,35853) - TATATA\n",
            "(45401,45407) - TATATA\n"
          ]
        }
      ]
    },
    {
      "cell_type": "markdown",
      "metadata": {
        "id": "F9gdwVs5hOPd"
      },
      "source": [
        "## K-Mer"
      ]
    },
    {
      "cell_type": "code",
      "metadata": {
        "id": "Zho3GeGI5Uq7"
      },
      "source": [
        "index = Index(T,2)"
      ],
      "execution_count": 9,
      "outputs": []
    },
    {
      "cell_type": "code",
      "metadata": {
        "colab": {
          "base_uri": "https://localhost:8080/"
        },
        "id": "aQ734Wj6gpoO",
        "outputId": "bc6cb124-1267-48da-8f47-98c2da1aa1a9"
      },
      "source": [
        "match_kmer = Verification(p,T,index)\n",
        "print(Verification(p,T,index))\n",
        "\n",
        "for u in match_kmer:\n",
        "    print(T[u:u+len(p)])"
      ],
      "execution_count": 10,
      "outputs": [
        {
          "output_type": "stream",
          "name": "stdout",
          "text": [
            "[27210, 28828, 35847, 45401]\n",
            "TATATA\n",
            "TATATA\n",
            "TATATA\n",
            "TATATA\n"
          ]
        }
      ]
    }
  ]
}