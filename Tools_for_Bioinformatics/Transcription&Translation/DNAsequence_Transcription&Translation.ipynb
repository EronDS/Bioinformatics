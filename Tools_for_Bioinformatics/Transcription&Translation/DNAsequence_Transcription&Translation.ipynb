{
  "nbformat": 4,
  "nbformat_minor": 0,
  "metadata": {
    "colab": {
      "name": "DNAsequence_Transcription&Translation.ipynb",
      "provenance": [],
      "authorship_tag": "ABX9TyNR5sntvmEgkygF6h+/waZg",
      "include_colab_link": true
    },
    "kernelspec": {
      "name": "python3",
      "display_name": "Python 3"
    },
    "language_info": {
      "name": "python"
    }
  },
  "cells": [
    {
      "cell_type": "markdown",
      "metadata": {
        "id": "view-in-github",
        "colab_type": "text"
      },
      "source": [
        "<a href=\"https://colab.research.google.com/github/EronDS/Bioinformatics/blob/main/Tools_for_Bioinformatics/Transcription%26Translation/DNAsequence_Transcription%26Translation.ipynb\" target=\"_parent\"><img src=\"https://colab.research.google.com/assets/colab-badge.svg\" alt=\"Open In Colab\"/></a>"
      ]
    },
    {
      "cell_type": "code",
      "metadata": {
        "id": "EyVEi_8aB8ID"
      },
      "source": [
        "import random\n",
        "import math"
      ],
      "execution_count": 1,
      "outputs": []
    },
    {
      "cell_type": "markdown",
      "metadata": {
        "id": "OMbJIRiKFwPv"
      },
      "source": [
        "##Double Helix DNA and DNA sequence generation\n",
        "\n"
      ]
    },
    {
      "cell_type": "code",
      "metadata": {
        "id": "fTL2qAi_B_P6"
      },
      "source": [
        "bases = ['A' , 'T' , 'C' , 'G']\n",
        "\n",
        "def GenerateRandomDNAstring(length =100):\n",
        "    DNAseq = []\n",
        "\n",
        "    for _ in range(length):\n",
        "        DNAseq.append(random.choice(bases))\n",
        "    \n",
        "    DNAseq = ''.join(DNAseq)\n",
        "    return DNAseq"
      ],
      "execution_count": 2,
      "outputs": []
    },
    {
      "cell_type": "code",
      "metadata": {
        "id": "vkbUKz6NCE-t"
      },
      "source": [
        "complementary = {'A' : 'T', 'C' : 'G' , 'G' : 'C' , 'C' : 'G', 'T' : 'A'}\n",
        "\n",
        "\n",
        "def base_pair(DNAseq):\n",
        "    base_pair = ''\n",
        "\n",
        "    for base in DNAseq:\n",
        "        base_pair = complementary[base] + base_pair\n",
        "    return base_pair"
      ],
      "execution_count": 3,
      "outputs": []
    },
    {
      "cell_type": "code",
      "metadata": {
        "colab": {
          "base_uri": "https://localhost:8080/"
        },
        "id": "aBqNsCi-C8aF",
        "outputId": "233bb67c-044c-4e16-83a9-483be94aeeae"
      },
      "source": [
        "DNAseq = GenerateRandomDNAstring(100)\n",
        "print(\"5'  \" + DNAseq+  \"  3'\")\n",
        "DNAseqT = base_pair(DNAseq)[::-1]\n",
        "print('    ' + '|' * len(DNAseq ))\n",
        "print(\"3'  \" + DNAseqT + \"  5'\")"
      ],
      "execution_count": 4,
      "outputs": [
        {
          "output_type": "stream",
          "name": "stdout",
          "text": [
            "5'  AGAGGTTTACGGCGAGACCTTAAAGATTATCGGTTGCTGCAGCTCAAGATTACCTGGTCCGAAGGGTACGAACTGCGGGGTGTGCTGGAATAACTGACCC  3'\n",
            "    ||||||||||||||||||||||||||||||||||||||||||||||||||||||||||||||||||||||||||||||||||||||||||||||||||||\n",
            "3'  TCTCCAAATGCCGCTCTGGAATTTCTAATAGCCAACGACGTCGAGTTCTAATGGACCAGGCTTCCCATGCTTGACGCCCCACACGACCTTATTGACTGGG  5'\n"
          ]
        }
      ]
    },
    {
      "cell_type": "markdown",
      "metadata": {
        "id": "b1fTxSvxFt8T"
      },
      "source": [
        "##Transcription"
      ]
    },
    {
      "cell_type": "code",
      "metadata": {
        "id": "ZQQwouZzC9hZ"
      },
      "source": [
        "\n",
        "def Transcription(seq):\n",
        "\n",
        "    rna = seq.replace('T' , 'U')\n",
        "\n",
        "    return rna\n",
        "\n"
      ],
      "execution_count": 5,
      "outputs": []
    },
    {
      "cell_type": "code",
      "metadata": {
        "id": "N43Au_YGEq63"
      },
      "source": [
        "mrna = Transcription(DNAseq)"
      ],
      "execution_count": 6,
      "outputs": []
    },
    {
      "cell_type": "markdown",
      "metadata": {
        "id": "uExlp3RvFshc"
      },
      "source": [
        "##Translation"
      ]
    },
    {
      "cell_type": "code",
      "metadata": {
        "id": "0_5SozUWEsRK"
      },
      "source": [
        "\n",
        "DNA_Codons = {\n",
        "    # 'M' - START, '_' - STOP\n",
        "    \"GCT\": \"A\", \"GCC\": \"A\", \"GCA\": \"A\", \"GCG\": \"A\",\n",
        "    \"TGT\": \"C\", \"TGC\": \"C\",\n",
        "    \"GAT\": \"D\", \"GAC\": \"D\",\n",
        "    \"GAA\": \"E\", \"GAG\": \"E\",\n",
        "    \"TTT\": \"F\", \"TTC\": \"F\",\n",
        "    \"GGT\": \"G\", \"GGC\": \"G\", \"GGA\": \"G\", \"GGG\": \"G\",\n",
        "    \"CAT\": \"H\", \"CAC\": \"H\",\n",
        "    \"ATA\": \"I\", \"ATT\": \"I\", \"ATC\": \"I\",\n",
        "    \"AAA\": \"K\", \"AAG\": \"K\",\n",
        "    \"TTA\": \"L\", \"TTG\": \"L\", \"CTT\": \"L\", \"CTC\": \"L\", \"CTA\": \"L\", \"CTG\": \"L\",\n",
        "    \"ATG\": \"M\",\n",
        "    \"AAT\": \"N\", \"AAC\": \"N\",\n",
        "    \"CCT\": \"P\", \"CCC\": \"P\", \"CCA\": \"P\", \"CCG\": \"P\",\n",
        "    \"CAA\": \"Q\", \"CAG\": \"Q\",\n",
        "    \"CGT\": \"R\", \"CGC\": \"R\", \"CGA\": \"R\", \"CGG\": \"R\", \"AGA\": \"R\", \"AGG\": \"R\",\n",
        "    \"TCT\": \"S\", \"TCC\": \"S\", \"TCA\": \"S\", \"TCG\": \"S\", \"AGT\": \"S\", \"AGC\": \"S\",\n",
        "    \"ACT\": \"T\", \"ACC\": \"T\", \"ACA\": \"T\", \"ACG\": \"T\",\n",
        "    \"GTT\": \"V\", \"GTC\": \"V\", \"GTA\": \"V\", \"GTG\": \"V\",\n",
        "    \"TGG\": \"W\",\n",
        "    \"TAT\": \"Y\", \"TAC\": \"Y\",\n",
        "    \"TAA\": \"_\", \"TAG\": \"_\", \"TGA\": \"_\"\n",
        "}\n",
        "\n",
        "RNA_Codons = {\n",
        "    # 'M' - START, '_' - STOP\n",
        "    \"GCU\": \"A\", \"GCC\": \"A\", \"GCA\": \"A\", \"GCG\": \"A\",\n",
        "    \"UGU\": \"C\", \"UGC\": \"C\",\n",
        "    \"GAU\": \"D\", \"GAC\": \"D\",\n",
        "    \"GAA\": \"E\", \"GAG\": \"E\",\n",
        "    \"UUU\": \"F\", \"UUC\": \"F\",\n",
        "    \"GGU\": \"G\", \"GGC\": \"G\", \"GGA\": \"G\", \"GGG\": \"G\",\n",
        "    \"CAU\": \"H\", \"CAC\": \"H\",\n",
        "    \"AUA\": \"I\", \"AUU\": \"I\", \"AUC\": \"I\",\n",
        "    \"AAA\": \"K\", \"AAG\": \"K\",\n",
        "    \"UUA\": \"L\", \"UUG\": \"L\", \"CUU\": \"L\", \"CUC\": \"L\", \"CUA\": \"L\", \"CUG\": \"L\",\n",
        "    \"AUG\": \"M\",\n",
        "    \"AAU\": \"N\", \"AAC\": \"N\",\n",
        "    \"CCU\": \"P\", \"CCC\": \"P\", \"CCA\": \"P\", \"CCG\": \"P\",\n",
        "    \"CAA\": \"Q\", \"CAG\": \"Q\",\n",
        "    \"CGU\": \"R\", \"CGC\": \"R\", \"CGA\": \"R\", \"CGG\": \"R\", \"AGA\": \"R\", \"AGG\": \"R\",\n",
        "    \"UCU\": \"S\", \"UCC\": \"S\", \"UCA\": \"S\", \"UCG\": \"S\", \"AGU\": \"S\", \"AGC\": \"S\",\n",
        "    \"ACU\": \"T\", \"ACC\": \"T\", \"ACA\": \"T\", \"ACG\": \"T\",\n",
        "    \"GUU\": \"V\", \"GUC\": \"V\", \"GUA\": \"V\", \"GUG\": \"V\",\n",
        "    \"UGG\": \"W\",\n",
        "    \"UAU\": \"Y\", \"UAC\": \"Y\",\n",
        "    \"UAA\": \"_\", \"UAG\": \"_\", \"UGA\": \"_\"\n",
        "}\n"
      ],
      "execution_count": 7,
      "outputs": []
    },
    {
      "cell_type": "code",
      "metadata": {
        "id": "Z-56d92PFqjw"
      },
      "source": [
        "def Translation(seq, init_pos = 0, rna = True):\n",
        "    if rna == True:\n",
        "        aminoacids = [RNA_Codons[seq[pos:pos + 3]] for pos in range(init_pos, len(seq) - 2, 3)]\n",
        "    if rna != True:\n",
        "        aminoacids = [DNA_Codons[seq[pos:pos+3]] for pos in range(init_pos, len(seq) -2 , 3)]\n",
        "    return aminoacids\n",
        "\n"
      ],
      "execution_count": 8,
      "outputs": []
    },
    {
      "cell_type": "code",
      "metadata": {
        "colab": {
          "base_uri": "https://localhost:8080/"
        },
        "id": "TDSBUoImHCvg",
        "outputId": "9d3ec109-4bee-4b8a-9f5b-ec9dff0b6e0c"
      },
      "source": [
        "aminoacids = Translation(mrna)\n",
        "print(aminoacids)"
      ],
      "execution_count": 9,
      "outputs": [
        {
          "output_type": "stream",
          "name": "stdout",
          "text": [
            "['R', 'G', 'L', 'R', 'R', 'D', 'L', 'K', 'D', 'Y', 'R', 'L', 'L', 'Q', 'L', 'K', 'I', 'T', 'W', 'S', 'E', 'G', 'Y', 'E', 'L', 'R', 'G', 'V', 'L', 'E', '_', 'L', 'T']\n"
          ]
        }
      ]
    },
    {
      "cell_type": "code",
      "metadata": {
        "id": "IaJJTY8aI0R9"
      },
      "source": [
        "def show_process(DNAseq):\n",
        "    print('------- DNA: -------')\n",
        "    print(DNAseq)\n",
        "    print('\\n')\n",
        "    rna = Transcription(DNAseq)\n",
        "    print('------- RNA: -------')\n",
        "    print(rna)\n",
        "    print('\\n')\n",
        "    print('------- Aminoacids-Chain: -------')\n",
        "    print(Translation(rna))\n",
        "    print('\\n')\n",
        "\n"
      ],
      "execution_count": 10,
      "outputs": []
    },
    {
      "cell_type": "code",
      "metadata": {
        "colab": {
          "base_uri": "https://localhost:8080/"
        },
        "id": "iP7ptL7yJQV_",
        "outputId": "b912c8f5-640d-4158-8b0b-b882da7f33fd"
      },
      "source": [
        "show_process(DNAseq)"
      ],
      "execution_count": 11,
      "outputs": [
        {
          "output_type": "stream",
          "name": "stdout",
          "text": [
            "------- DNA: -------\n",
            "AGAGGTTTACGGCGAGACCTTAAAGATTATCGGTTGCTGCAGCTCAAGATTACCTGGTCCGAAGGGTACGAACTGCGGGGTGTGCTGGAATAACTGACCC\n",
            "\n",
            "\n",
            "------- RNA: -------\n",
            "AGAGGUUUACGGCGAGACCUUAAAGAUUAUCGGUUGCUGCAGCUCAAGAUUACCUGGUCCGAAGGGUACGAACUGCGGGGUGUGCUGGAAUAACUGACCC\n",
            "\n",
            "\n",
            "------- Aminoacids-Chain: -------\n",
            "['R', 'G', 'L', 'R', 'R', 'D', 'L', 'K', 'D', 'Y', 'R', 'L', 'L', 'Q', 'L', 'K', 'I', 'T', 'W', 'S', 'E', 'G', 'Y', 'E', 'L', 'R', 'G', 'V', 'L', 'E', '_', 'L', 'T']\n",
            "\n",
            "\n"
          ]
        }
      ]
    }
  ]
}