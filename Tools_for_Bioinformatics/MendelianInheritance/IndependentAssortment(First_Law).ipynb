{
  "nbformat": 4,
  "nbformat_minor": 0,
  "metadata": {
    "colab": {
      "name": "MendelianGenetics.ipynb",
      "provenance": [],
      "authorship_tag": "ABX9TyOEbD8kPTXeC8s8/huB4E6x",
      "include_colab_link": true
    },
    "kernelspec": {
      "name": "python3",
      "display_name": "Python 3"
    },
    "language_info": {
      "name": "python"
    }
  },
  "cells": [
    {
      "cell_type": "markdown",
      "metadata": {
        "id": "view-in-github",
        "colab_type": "text"
      },
      "source": [
        "<a href=\"https://colab.research.google.com/github/EronDS/Bioinformatics/blob/main/Tools_for_Bioinformatics/MendelianInheritance/IndependentAssortment(First_Law).ipynb\" target=\"_parent\"><img src=\"https://colab.research.google.com/assets/colab-badge.svg\" alt=\"Open In Colab\"/></a>"
      ]
    },
    {
      "cell_type": "code",
      "metadata": {
        "id": "OZwGMKTvIzWJ"
      },
      "source": [
        "import math \n",
        "import numpy as np\n",
        "import collections\n",
        "import random\n",
        "import seaborn as sns\n",
        "import matplotlib.pyplot as plt\n",
        "import warnings\n",
        "from scipy.stats import chi2, chisquare\n",
        "warnings.filterwarnings('ignore')\n",
        "\n",
        "k = ['#004c6d','#6996b3' , '#c1e7ff']\n",
        "sns.set_style('whitegrid')"
      ],
      "execution_count": 1,
      "outputs": []
    },
    {
      "cell_type": "code",
      "metadata": {
        "colab": {
          "base_uri": "https://localhost:8080/",
          "height": 35
        },
        "id": "3Ai_snwnfLY3",
        "outputId": "95c77c76-9713-4ed9-f1e5-247d5e8624f6"
      },
      "source": [
        "random.choice('Aa')"
      ],
      "execution_count": 2,
      "outputs": [
        {
          "output_type": "execute_result",
          "data": {
            "application/vnd.google.colaboratory.intrinsic+json": {
              "type": "string"
            },
            "text/plain": [
              "'A'"
            ]
          },
          "metadata": {},
          "execution_count": 2
        }
      ]
    },
    {
      "cell_type": "code",
      "metadata": {
        "id": "tyetrRH1UxgC"
      },
      "source": [
        "def IndependantSegregation(p1 = 'AA' , p2 = 'aa' , n_f1 = 320 , n_f2 =1000):\n",
        "    p1 = list(p1)\n",
        "    p2 = list(p2)\n",
        "\n",
        "    f1 = [0] * n_f1 \n",
        "\n",
        "    for i in range(n_f1):\n",
        "        f1[i] = random.choice(p1) + random.choice(p2)\n",
        "    \n",
        "    f2 = [0] * n_f2\n",
        "    f1_pool = list('Aa')\n",
        "\n",
        "    for u in range(n_f2):\n",
        "        f2[u] = random.choice(f1_pool) + random.choice(f1_pool)\n",
        "    return f1,f2"
      ],
      "execution_count": 3,
      "outputs": []
    },
    {
      "cell_type": "code",
      "metadata": {
        "id": "igndtVqQWr0k"
      },
      "source": [
        "f1,f2 = IndependantSegregation()"
      ],
      "execution_count": 4,
      "outputs": []
    },
    {
      "cell_type": "code",
      "metadata": {
        "id": "zA_lsll-YIwB"
      },
      "source": [
        "def allele_counter(gen):\n",
        "    allele_freq = {'AA': 0 , 'Aa':0 , 'aa':0}\n",
        "    AA_count, Aa_count, aa_count = 0 , 0 , 0\n",
        "\n",
        "    for i in range(len(gen)):\n",
        "        if gen[i] == 'AA':\n",
        "            AA_count += 1\n",
        "        if gen[i] == 'aa':\n",
        "            aa_count += 1\n",
        "        if gen[i] == 'Aa':\n",
        "            Aa_count += 1\n",
        "        if gen[i] == 'aA':\n",
        "            Aa_count += 1\n",
        "    \n",
        "    allele_freq['AA'] = AA_count\n",
        "    allele_freq['Aa'] = Aa_count\n",
        "    allele_freq['aa'] = aa_count\n",
        "    return allele_freq"
      ],
      "execution_count": 5,
      "outputs": []
    },
    {
      "cell_type": "code",
      "metadata": {
        "id": "ZAU4DXTuYtze"
      },
      "source": [
        "f1_allele_freq = allele_counter(f1)\n",
        "f2_allele_freq = allele_counter(f2)"
      ],
      "execution_count": 6,
      "outputs": []
    },
    {
      "cell_type": "code",
      "metadata": {
        "colab": {
          "base_uri": "https://localhost:8080/",
          "height": 296
        },
        "id": "5aAYrl4lZa7L",
        "outputId": "0b1b8a2f-dd16-4cb5-9748-a6de1b37d59c"
      },
      "source": [
        "\n",
        "f1_alleles =list(f1_allele_freq.keys())\n",
        "f1_freqs = list(f1_allele_freq.values())\n",
        "\n",
        "plt.subplot(1,2,1)\n",
        "sns.barplot(f1_alleles,f1_freqs, palette = k ).set_title('F1')\n",
        "\n",
        "f2_alleles = list(f2_allele_freq.keys())\n",
        "f2_freqs = list(f2_allele_freq.values())\n",
        "\n",
        "plt.subplot(1,2,2)\n",
        "sns.barplot(f2_alleles,f2_freqs, palette = k).set_title('F2')\n",
        "plt.tight_layout()"
      ],
      "execution_count": 7,
      "outputs": [
        {
          "output_type": "display_data",
          "data": {
            "image/png": "[encoded data removed]",
            "text/plain": [
              "<Figure size 432x288 with 2 Axes>"
            ]
          },
          "metadata": {
            "needs_background": "light"
          }
        }
      ]
    },
    {
      "cell_type": "markdown",
      "metadata": {
        "id": "Hn5e35nTjUYy"
      },
      "source": [
        "## χ² test"
      ]
    },
    {
      "cell_type": "markdown",
      "metadata": {
        "id": "MgL6BOCRjiUU"
      },
      "source": [
        "![image.png](data:image/png;base64,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)"
      ]
    },
    {
      "cell_type": "code",
      "metadata": {
        "id": "pljbb1iekZ7U"
      },
      "source": [
        "f2_allele_freq\n",
        "f2_allele_perc = []\n",
        "\n",
        "for i in f2_allele_freq.values():\n",
        "    f2_allele_perc.append(i / sum(f2_allele_freq.values()))"
      ],
      "execution_count": 8,
      "outputs": []
    },
    {
      "cell_type": "code",
      "metadata": {
        "colab": {
          "base_uri": "https://localhost:8080/"
        },
        "id": "VfzembDmoHYb",
        "outputId": "0c21881e-1e8a-45fd-ba01-3c9618c70ad0"
      },
      "source": [
        "list(f2_allele_freq.values())"
      ],
      "execution_count": 9,
      "outputs": [
        {
          "output_type": "execute_result",
          "data": {
            "text/plain": [
              "[269, 468, 263]"
            ]
          },
          "metadata": {},
          "execution_count": 9
        }
      ]
    },
    {
      "cell_type": "code",
      "metadata": {
        "colab": {
          "base_uri": "https://localhost:8080/"
        },
        "id": "V87EXghFkzLS",
        "outputId": "b7fe918c-0bb4-4bdc-c4ab-5e85f2f144aa"
      },
      "source": [
        "print(f2_allele_freq)\n",
        "print(f2_allele_perc)\n",
        "phenotype1 = list(f2_allele_freq.values())[0] + list(f2_allele_freq.values())[1]\n",
        "phenotype2 = list(f2_allele_freq.values())[2]\n",
        "\n",
        "\n",
        "phenotype1_perc = f2_allele_perc[0] + f2_allele_perc[1]\n",
        "phenotype2_perc = f2_allele_perc[2]\n",
        "print('Distribution of Phenotype 1 (AA e Aa) : {}'.format(phenotype1))\n",
        "print('Distribution of Phenotype 2 (aa) : {}'.format(phenotype2))\n",
        "\n",
        "print('Frequency of Phenotype 1 (AA e Aa) : {}'.format(phenotype1_perc))\n",
        "print('Frequency of Phenotype 2 (aa) : {}'.format(phenotype2_perc))\n",
        "\n",
        "f2_population = sum(list(f2_allele_freq.values()))\n",
        "print('F1 Population: {}'.format(f2_population))"
      ],
      "execution_count": 10,
      "outputs": [
        {
          "output_type": "stream",
          "name": "stdout",
          "text": [
            "{'AA': 269, 'Aa': 468, 'aa': 263}\n",
            "[0.269, 0.468, 0.263]\n",
            "Distribution of Phenotype 1 (AA e Aa) : 737\n",
            "Distribution of Phenotype 2 (aa) : 263\n",
            "Frequency of Phenotype 1 (AA e Aa) : 0.7370000000000001\n",
            "Frequency of Phenotype 2 (aa) : 0.263\n",
            "F1 Population: 1000\n"
          ]
        }
      ]
    },
    {
      "cell_type": "markdown",
      "metadata": {
        "id": "dDjK-sXomH5v"
      },
      "source": [
        "\n",
        "Ho = The phenotypic segregation observed in the F2 generation follows the 3:1 ratio\n",
        "\n",
        "H1 = The phenotypic segregation observed in the F2 generation does not follow the 3:1 ratio\n",
        "\n",
        "alpha = .05, df = 1"
      ]
    },
    {
      "cell_type": "code",
      "metadata": {
        "colab": {
          "base_uri": "https://localhost:8080/",
          "height": 296
        },
        "id": "YPlTnqbhfCYv",
        "outputId": "88eba82f-8410-439d-e437-9f446c62eefb"
      },
      "source": [
        "x = np.arange(0,10,0.001)\n",
        "plt.plot(x, chi2.pdf(x, df = 1),\n",
        "         color = 'white') # df = number_of_classes(phenotypes) - 1 \n",
        "plt.title('χ² Probability Distribution', fontsize = 16, loc = 'center')\n",
        "plt.ylim(0,1.2)\n",
        "plt.xlim(0,5)\n",
        "plt.fill_between(x[:3840], chi2.pdf(x,df = 1)[:3840], color = 'skyblue')\n",
        "plt.fill_between(x[3840:], chi2.pdf(x, df =1)[3840:], color = 'salmon')\n",
        "plt.tight_layout()"
      ],
      "execution_count": 11,
      "outputs": [
        {
          "output_type": "display_data",
          "data": {
            "image/png": "[encoded data removed]",
            "text/plain": [
              "<Figure size 432x288 with 1 Axes>"
            ]
          },
          "metadata": {
            "needs_background": "light"
          }
        }
      ]
    },
    {
      "cell_type": "code",
      "metadata": {
        "colab": {
          "base_uri": "https://localhost:8080/"
        },
        "id": "kP3Z1Sbmi7ec",
        "outputId": "32a2db10-0d45-4566-f067-aa42dc732a8b"
      },
      "source": [
        "print(chisquare(f_obs = [phenotype1,phenotype2],f_exp = [0.75 * f2_population,0.25 * f2_population]))\n",
        "# Rejeita Hipotese 1\n",
        "# H1 Rejected "
      ],
      "execution_count": 12,
      "outputs": [
        {
          "output_type": "stream",
          "name": "stdout",
          "text": [
            "Power_divergenceResult(statistic=0.9013333333333333, pvalue=0.34242444692165286)\n"
          ]
        }
      ]
    },
    {
      "cell_type": "code",
      "metadata": {
        "id": "G8ax873ilocI"
      },
      "source": [
        "def rc1_rc2(f1,p1 = 'AA' , p2 = 'aa'):\n",
        "    rc1, rc2 = [] , []\n",
        "\n",
        "\n",
        "    for i in range(len(f1)):\n",
        "        rc1.append(random.choice(f1[i]) + random.choice(p1))\n",
        "        rc2.append(random.choice(f1[i]) + random.choice(p2))\n",
        "    \n",
        "    rc1 = allele_counter(rc1)\n",
        "    rc2 = allele_counter(rc2)\n",
        "\n",
        "    rc1_phenotypes = {'phenotype1': 0, 'phenotype2':0}\n",
        "    rc1_phenotypes['phenotype1'] = rc1['AA'] + rc1['Aa']\n",
        "    rc1_phenotypes['phenotype2'] = rc1['aa']\n",
        "    \n",
        "    rc2_phenotypes = {'phenotype1': 0, 'phenotype2':0}\n",
        "    rc2_phenotypes['phenotype1'] = rc2['AA'] + rc2['Aa']\n",
        "    rc2_phenotypes['phenotype2'] = rc2['aa']\n",
        "\n",
        "    return rc1,rc2, rc1_phenotypes, rc2_phenotypes\n"
      ],
      "execution_count": 13,
      "outputs": []
    },
    {
      "cell_type": "code",
      "metadata": {
        "id": "-xFl8vVCsT7h"
      },
      "source": [
        "f1_population = 320"
      ],
      "execution_count": 14,
      "outputs": []
    },
    {
      "cell_type": "code",
      "metadata": {
        "colab": {
          "base_uri": "https://localhost:8080/"
        },
        "id": "UQ-Bptyuob7h",
        "outputId": "11f00628-a6d2-4410-8dc3-010d50fed575"
      },
      "source": [
        "rc1,rc2, rc1_phe,rc2_phe = rc1_rc2(f1=f1)\n",
        "\n",
        "print('RC1 : {}'.format(rc1))\n",
        "print('RC2 : {}'.format(rc2))\n",
        "print('RC1 Phenotypes: {}'.format(rc1_phe))\n",
        "print('RC2 Phenotypes: {}'.format(rc2_phe))"
      ],
      "execution_count": 15,
      "outputs": [
        {
          "output_type": "stream",
          "name": "stdout",
          "text": [
            "RC1 : {'AA': 147, 'Aa': 173, 'aa': 0}\n",
            "RC2 : {'AA': 0, 'Aa': 160, 'aa': 160}\n",
            "RC1 Phenotypes: {'phenotype1': 320, 'phenotype2': 0}\n",
            "RC2 Phenotypes: {'phenotype1': 160, 'phenotype2': 160}\n"
          ]
        }
      ]
    },
    {
      "cell_type": "markdown",
      "metadata": {
        "id": "6Y8hEQGns7VY"
      },
      "source": [
        "Ho = A segregação fenotípica observada na geração RC2 segue a proporção 1:1\n",
        "\n",
        "H1 = A segregação fenotípica observada na geração RC2 não segue a proporção 1:1\n",
        "\n",
        "alpha = .05, df = 1"
      ]
    },
    {
      "cell_type": "code",
      "metadata": {
        "colab": {
          "base_uri": "https://localhost:8080/"
        },
        "id": "3nwtnJsOq2mr",
        "outputId": "235f1cfb-e798-4e75-db9e-7a71ea608925"
      },
      "source": [
        "print(chisquare(f_obs = [rc2_phe['phenotype1'],rc2_phe['phenotype2']],f_exp = [.5 * f1_population,0.5* f1_population]))\n",
        "# Rejeita Hipotese 1\n",
        "# H1 Rejected "
      ],
      "execution_count": 16,
      "outputs": [
        {
          "output_type": "stream",
          "name": "stdout",
          "text": [
            "Power_divergenceResult(statistic=0.0, pvalue=1.0)\n"
          ]
        }
      ]
    },
    {
      "cell_type": "code",
      "metadata": {
        "colab": {
          "base_uri": "https://localhost:8080/",
          "height": 728
        },
        "id": "fTQqMG71sbpq",
        "outputId": "da2a1335-a70e-4998-f129-5d5fdbe6dc64"
      },
      "source": [
        "plt.figure(figsize = (20,10))\n",
        "\n",
        "f1_alleles =list(f1_allele_freq.keys())\n",
        "f1_freqs = list(f1_allele_freq.values())\n",
        "\n",
        "rc1_alleles = list(rc1.keys())\n",
        "rc1_freqs = list(rc1.values())\n",
        "\n",
        "rc2_alleles = list(rc2.keys())\n",
        "rc2_freqs = list(rc2.values())\n",
        "\n",
        "plt.subplot(2,2,1)\n",
        "\n",
        "sns.barplot(f1_alleles,f1_freqs, palette = k).set_title('F1', fontsize = 18)\n",
        "plt.yticks([])\n",
        "plt.xticks(fontsize = 14)\n",
        "\n",
        "\n",
        "f2_alleles = list(f2_allele_freq.keys())\n",
        "f2_freqs = list(f2_allele_freq.values())\n",
        "\n",
        "plt.subplot(2,2,2)\n",
        "sns.barplot(f2_alleles,f2_freqs, palette = k).set_title('F2', fontsize = 18)\n",
        "plt.yticks([])\n",
        "plt.xticks(fontsize = 14)\n",
        "\n",
        "\n",
        "plt.subplot(2,2,3)\n",
        "sns.barplot(rc1_alleles,rc1_freqs, palette = k).set_title('RC1 [F2 x P1 (AA)]',fontsize = 18)\n",
        "plt.yticks([])\n",
        "plt.xticks(fontsize = 14)\n",
        "\n",
        "plt.subplot(2,2,4)\n",
        "\n",
        "sns.barplot(rc2_alleles,rc2_freqs, palette = k).set_title('RC2 [F2 x P2 (aa)]',fontsize = 18)\n",
        "plt.tight_layout()\n",
        "plt.xticks(fontsize = 14)\n",
        "plt.yticks([])\n"
      ],
      "execution_count": 17,
      "outputs": [
        {
          "output_type": "execute_result",
          "data": {
            "text/plain": [
              "([], <a list of 0 Text major ticklabel objects>)"
            ]
          },
          "metadata": {},
          "execution_count": 17
        },
        {
          "output_type": "display_data",
          "data": {
            "image/png": "[encoded data removed]",
            "text/plain": [
              "<Figure size 1440x720 with 4 Axes>"
            ]
          },
          "metadata": {
            "needs_background": "light"
          }
        }
      ]
    },
    {
      "cell_type": "code",
      "metadata": {
        "id": "D6BpAsmJxFbR"
      },
      "source": [
        ""
      ],
      "execution_count": 17,
      "outputs": []
    }
  ]
}