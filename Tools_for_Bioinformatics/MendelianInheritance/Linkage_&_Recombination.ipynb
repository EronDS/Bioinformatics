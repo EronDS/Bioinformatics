{
  "nbformat": 4,
  "nbformat_minor": 0,
  "metadata": {
    "colab": {
      "name": "Linkage_&_Recombination.ipynb",
      "provenance": [],
      "authorship_tag": "ABX9TyOU0zPXiRrWGiSYL+JkSJMe",
      "include_colab_link": true
    },
    "kernelspec": {
      "name": "python3",
      "display_name": "Python 3"
    },
    "language_info": {
      "name": "python"
    }
  },
  "cells": [
    {
      "cell_type": "markdown",
      "metadata": {
        "id": "view-in-github",
        "colab_type": "text"
      },
      "source": [
        "<a href=\"https://colab.research.google.com/github/EronDS/Bioinformatics/blob/main/Tools_for_Bioinformatics/MendelianInheritance/Linkage_%26_Recombination.ipynb\" target=\"_parent\"><img src=\"https://colab.research.google.com/assets/colab-badge.svg\" alt=\"Open In Colab\"/></a>"
      ]
    },
    {
      "cell_type": "code",
      "metadata": {
        "id": "1aKq6pUhpfak"
      },
      "source": [
        "import numpy as np \n",
        "import math  \n",
        "import collections\n",
        "import matplotlib.pyplot as plt\n",
        "import seaborn as sns"
      ],
      "execution_count": 71,
      "outputs": []
    },
    {
      "cell_type": "code",
      "metadata": {
        "id": "oU-1hBELpnAd"
      },
      "source": [
        "def linkage_chromossomes(percentage_of_crossingover = .1, number_of_cells = 1000,geneA = ['A'], geneB = ['B'], cis = True):\n",
        "        fq = percentage_of_crossingover\n",
        "        t = number_of_cells\n",
        "        fr = fq / 2 \n",
        "\n",
        "        r = fr * t\n",
        "\n",
        "        if cis == True:\n",
        "            p1 = list(geneA)[0].upper() * 2 + list(geneB)[0].upper() * 2\n",
        "            p2 = list(geneA)[0].lower() * 2 + list(geneB)[0].lower() * 2\n",
        "        if cis != True:\n",
        "            p1 = list(geneA)[0].upper() * 2 +  list(geneB)[0].lower() * 2\n",
        "            p2 = list(geneA)[0].lower() * 2 + list(geneB)[0].upper() * 2\n",
        "\n",
        "\n",
        "        cM = fr * 100 \n",
        "\n",
        "\n",
        "        print('Parental Chromossomes:')\n",
        "        print('P1:' + p1[0] + p1[2] + '/' + p1[1] +  p1[3])\n",
        "        print('P1:' + p2[0] + p2[2] + '/' + p2[1] +  p2[3])\n",
        "\n",
        "\n",
        "        f1 = p1[0] + p2[0] + p1[2] + p2[2]\n",
        "        print('F1:' + f1[0] + f1[2] + '/' + f1[1] + f1[3])\n",
        "\n",
        "        print('Recombinants Gametes:' + f1[0] + f1[3] +  ',' + f1[1] + f1[2] )\n",
        "        print('Paternal  Gametes:' + f1[0] + f1[2] + ',' + f1[1] + f1[3])\n",
        "\n",
        "\n",
        "        recomb_gs_1 = f1[0] + f1[3]\n",
        "        recomb_gs_2 = f1[1] + f1[2]\n",
        "\n",
        "        paternal_gs_1 = f1[0] + f1[2]\n",
        "        paternal_gs_2 = f1[1] + f1[3]\n",
        "\n",
        "        recomb_gametes = int((fr * number_of_cells) * 4) # 4 gametes for each cell (Meiosis)\n",
        "        paternal_gametes = int(((1 - fr) * number_of_cells)  * 4)\n",
        "\n",
        "        pool = []\n",
        "\n",
        "        for i in range(recomb_gametes):\n",
        "            if i >= recomb_gametes // 2:\n",
        "                pool.append(recomb_gs_1)\n",
        "            else:\n",
        "                pool.append(recomb_gs_2)\n",
        "\n",
        "        for i in range(paternal_gametes):\n",
        "            if i >= paternal_gametes // 2:\n",
        "                pool.append(paternal_gs_1)\n",
        "            else:\n",
        "                pool.append(paternal_gs_2)\n",
        "\n",
        "        pool = dict(collections.Counter(pool))\n",
        "\n",
        "        print('Frequency of Recombination: {}'.format(fr))\n",
        "        print('Frequency of Crossing-Over (observed by chiasmas): {}'.format(fq))\n",
        "\n",
        "        \n",
        "        plt.bar(range(len(pool)), list(pool.values()), align='center',\n",
        "                color = 'skyblue')\n",
        "        plt.xticks(range(len(pool)), list(pool.keys()), fontsize = 13)\n",
        "        sns.despine()\n",
        "\n",
        "\n",
        "        print('Genes: {}cM (centimorgans) far apart'.format(fr * 100))\n",
        "\n",
        "\n",
        "\n",
        "\n",
        "            \n",
        "            \n",
        "\n",
        "\n",
        "        \n",
        "        \n",
        "        return pool"
      ],
      "execution_count": 99,
      "outputs": []
    },
    {
      "cell_type": "code",
      "metadata": {
        "colab": {
          "base_uri": "https://localhost:8080/",
          "height": 441
        },
        "id": "JlQej1DtqOmo",
        "outputId": "cb2a275e-e395-48e7-f257-58f6c12357ea"
      },
      "source": [
        "cis = linkage_chromossomes(geneA = ['R'], geneB = ['S'] , cis = True)\n",
        "cis"
      ],
      "execution_count": 100,
      "outputs": [
        {
          "output_type": "stream",
          "name": "stdout",
          "text": [
            "Parental Chromossomes:\n",
            "P1:RS/RS\n",
            "P1:rs/rs\n",
            "F1:RS/rs\n",
            "Recombinants Gametes:Rs,rS\n",
            "Paternal  Gametes:RS,rs\n",
            "Frequency of Recombination: 0.05\n",
            "Frequency of Crossing-Over (observed by chiasmas): 0.1\n",
            "Genes: 5.0cM (centimorgans) far apart\n"
          ]
        },
        {
          "output_type": "execute_result",
          "data": {
            "text/plain": [
              "{'RS': 1900, 'Rs': 100, 'rS': 100, 'rs': 1900}"
            ]
          },
          "metadata": {},
          "execution_count": 100
        },
        {
          "output_type": "display_data",
          "data": {
            "image/png": "[encoded data removed]",
            "text/plain": [
              "<Figure size 432x288 with 1 Axes>"
            ]
          },
          "metadata": {
            "needs_background": "light"
          }
        }
      ]
    },
    {
      "cell_type": "code",
      "metadata": {
        "id": "dkJIXl8MqQWv",
        "colab": {
          "base_uri": "https://localhost:8080/",
          "height": 441
        },
        "outputId": "3b330774-1c48-4547-927d-c66035b7971a"
      },
      "source": [
        "trans = linkage_chromossomes(geneA = ['R'], geneB = ['S'] , cis = False)\n",
        "trans"
      ],
      "execution_count": 101,
      "outputs": [
        {
          "output_type": "stream",
          "name": "stdout",
          "text": [
            "Parental Chromossomes:\n",
            "P1:Rs/Rs\n",
            "P1:rS/rS\n",
            "F1:Rs/rS\n",
            "Recombinants Gametes:RS,rs\n",
            "Paternal  Gametes:Rs,rS\n",
            "Frequency of Recombination: 0.05\n",
            "Frequency of Crossing-Over (observed by chiasmas): 0.1\n",
            "Genes: 5.0cM (centimorgans) far apart\n"
          ]
        },
        {
          "output_type": "execute_result",
          "data": {
            "text/plain": [
              "{'RS': 100, 'Rs': 1900, 'rS': 1900, 'rs': 100}"
            ]
          },
          "metadata": {},
          "execution_count": 101
        },
        {
          "output_type": "display_data",
          "data": {
            "image/png": "[encoded data removed]",
            "text/plain": [
              "<Figure size 432x288 with 1 Axes>"
            ]
          },
          "metadata": {
            "needs_background": "light"
          }
        }
      ]
    }
  ]
}