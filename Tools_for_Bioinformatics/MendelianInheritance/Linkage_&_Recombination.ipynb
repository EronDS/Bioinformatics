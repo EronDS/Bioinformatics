{
  "nbformat": 4,
  "nbformat_minor": 0,
  "metadata": {
    "colab": {
      "name": "Linkage_&_Recombination.ipynb",
      "provenance": [],
      "authorship_tag": "ABX9TyPPmTImCZdaoeQFt1xXMM+f",
      "include_colab_link": true
    },
    "kernelspec": {
      "name": "python3",
      "display_name": "Python 3"
    },
    "language_info": {
      "name": "python"
    }
  },
  "cells": [
    {
      "cell_type": "markdown",
      "metadata": {
        "id": "view-in-github",
        "colab_type": "text"
      },
      "source": [
        "<a href=\"https://colab.research.google.com/github/EronDS/Bioinformatics/blob/main/Tools_for_Bioinformatics/MendelianInheritance/Linkage_%26_Recombination.ipynb\" target=\"_parent\"><img src=\"https://colab.research.google.com/assets/colab-badge.svg\" alt=\"Open In Colab\"/></a>"
      ]
    },
    {
      "cell_type": "code",
      "metadata": {
        "id": "1aKq6pUhpfak"
      },
      "source": [
        "import numpy as np \n",
        "import math  \n",
        "import collections\n",
        "import matplotlib.pyplot as plt\n",
        "import seaborn as sns"
      ],
      "execution_count": 1,
      "outputs": []
    },
    {
      "cell_type": "code",
      "metadata": {
        "id": "oU-1hBELpnAd"
      },
      "source": [
        "def linkage_chromossomes(percentage_of_crossingover = .1, number_of_cells = 1000,geneA = ['A'], geneB = ['B'], cis = True):\n",
        "        if percentage_of_crossingover > 0:\n",
        "            print('Incomplete Linkage')\n",
        "        else:\n",
        "            print('Complete Linkage (Without Crossing-Over)')\n",
        "        fq = percentage_of_crossingover\n",
        "        t = number_of_cells\n",
        "        fr = fq / 2 \n",
        "\n",
        "        r = fr * t\n",
        "\n",
        "        if cis == True:\n",
        "            p1 = list(geneA)[0].upper() * 2 + list(geneB)[0].upper() * 2\n",
        "            p2 = list(geneA)[0].lower() * 2 + list(geneB)[0].lower() * 2\n",
        "        if cis != True:\n",
        "            p1 = list(geneA)[0].upper() * 2 +  list(geneB)[0].lower() * 2\n",
        "            p2 = list(geneA)[0].lower() * 2 + list(geneB)[0].upper() * 2\n",
        "\n",
        "\n",
        "        cM = fr * 100 \n",
        "\n",
        "\n",
        "        print('Parental Chromossomes:')\n",
        "        print('P1:' + p1[0] + p1[2] + '/' + p1[1] +  p1[3])\n",
        "        print('P2:' + p2[0] + p2[2] + '/' + p2[1] +  p2[3])\n",
        "\n",
        "        print('------------------------')\n",
        "        f1 = p1[0] + p2[0] + p1[2] + p2[2]\n",
        "        print('F1:' + f1[0] + f1[2] + '/' + f1[1] + f1[3])\n",
        "\n",
        "        print('Recombinants Gametes:' + f1[0] + f1[3] +  ',' + f1[1] + f1[2] )\n",
        "        print('Paternal  Gametes:' + f1[0] + f1[2] + ',' + f1[1] + f1[3])\n",
        "\n",
        "\n",
        "        recomb_gs_1 = f1[0] + f1[3]\n",
        "        recomb_gs_2 = f1[1] + f1[2]\n",
        "\n",
        "        paternal_gs_1 = f1[0] + f1[2]\n",
        "        paternal_gs_2 = f1[1] + f1[3]\n",
        "\n",
        "        recomb_gametes = int((fr * number_of_cells) * 4) # 4 gametes for each cell (Meiosis)\n",
        "        paternal_gametes = int(((1 - fr) * number_of_cells)  * 4)\n",
        "\n",
        "        pool = []\n",
        "\n",
        "        for i in range(recomb_gametes):\n",
        "            if i >= recomb_gametes // 2:\n",
        "                pool.append(recomb_gs_1)\n",
        "            else:\n",
        "                pool.append(recomb_gs_2)\n",
        "\n",
        "        for i in range(paternal_gametes):\n",
        "            if i >= paternal_gametes // 2:\n",
        "                pool.append(paternal_gs_1)\n",
        "            else:\n",
        "                pool.append(paternal_gs_2)\n",
        "\n",
        "        pool = dict(collections.Counter(pool))\n",
        "\n",
        "        print('Frequency of Recombination: {}'.format(fr))\n",
        "        print('Frequency of Crossing-Over (observed by chiasmas): {}'.format(fq))\n",
        "\n",
        "        \n",
        "        plt.bar(range(len(pool)), list(pool.values()), align='center',\n",
        "                color = 'skyblue')\n",
        "        plt.xticks(range(len(pool)), list(pool.keys()), fontsize = 13)\n",
        "        sns.despine()\n",
        "\n",
        "\n",
        "        print('Genes: {}cM (centimorgans) far apart'.format(fr * 100))        \n",
        "        \n",
        "        return pool"
      ],
      "execution_count": 2,
      "outputs": []
    },
    {
      "cell_type": "code",
      "metadata": {
        "colab": {
          "base_uri": "https://localhost:8080/",
          "height": 476
        },
        "id": "JlQej1DtqOmo",
        "outputId": "ede84b2f-89d5-4a11-f076-7aeeeeb12320"
      },
      "source": [
        "cis = linkage_chromossomes(geneA = ['R'], geneB = ['S'] , cis = True, percentage_of_crossingover= .4)\n",
        "cis"
      ],
      "execution_count": 3,
      "outputs": [
        {
          "output_type": "stream",
          "name": "stdout",
          "text": [
            "Incomplete Linkage\n",
            "Parental Chromossomes:\n",
            "P1:RS/RS\n",
            "P2:rs/rs\n",
            "------------------------\n",
            "F1:RS/rs\n",
            "Recombinants Gametes:Rs,rS\n",
            "Paternal  Gametes:RS,rs\n",
            "Frequency of Recombination: 0.2\n",
            "Frequency of Crossing-Over (observed by chiasmas): 0.4\n",
            "Genes: 20.0cM (centimorgans) far apart\n"
          ]
        },
        {
          "output_type": "execute_result",
          "data": {
            "text/plain": [
              "{'RS': 1600, 'Rs': 400, 'rS': 400, 'rs': 1600}"
            ]
          },
          "metadata": {},
          "execution_count": 3
        },
        {
          "output_type": "display_data",
          "data": {
            "image/png": "[encoded data removed]",
            "text/plain": [
              "<Figure size 432x288 with 1 Axes>"
            ]
          },
          "metadata": {
            "needs_background": "light"
          }
        }
      ]
    },
    {
      "cell_type": "code",
      "metadata": {
        "id": "dkJIXl8MqQWv",
        "colab": {
          "base_uri": "https://localhost:8080/",
          "height": 476
        },
        "outputId": "3f33e406-6094-4ec3-e7b6-fe010e3d9853"
      },
      "source": [
        "trans = linkage_chromossomes(geneA = ['R'], geneB = ['S'] , cis = False, percentage_of_crossingover= .4)\n",
        "trans"
      ],
      "execution_count": 4,
      "outputs": [
        {
          "output_type": "stream",
          "name": "stdout",
          "text": [
            "Incomplete Linkage\n",
            "Parental Chromossomes:\n",
            "P1:Rs/Rs\n",
            "P2:rS/rS\n",
            "------------------------\n",
            "F1:Rs/rS\n",
            "Recombinants Gametes:RS,rs\n",
            "Paternal  Gametes:Rs,rS\n",
            "Frequency of Recombination: 0.2\n",
            "Frequency of Crossing-Over (observed by chiasmas): 0.4\n",
            "Genes: 20.0cM (centimorgans) far apart\n"
          ]
        },
        {
          "output_type": "execute_result",
          "data": {
            "text/plain": [
              "{'RS': 400, 'Rs': 1600, 'rS': 1600, 'rs': 400}"
            ]
          },
          "metadata": {},
          "execution_count": 4
        },
        {
          "output_type": "display_data",
          "data": {
            "image/png": "[encoded data removed]",
            "text/plain": [
              "<Figure size 432x288 with 1 Axes>"
            ]
          },
          "metadata": {
            "needs_background": "light"
          }
        }
      ]
    },
    {
      "cell_type": "code",
      "metadata": {
        "colab": {
          "base_uri": "https://localhost:8080/",
          "height": 476
        },
        "id": "_DnBZpdUM36W",
        "outputId": "6aafa452-8caf-45ad-9eec-aa73edcb5b35"
      },
      "source": [
        "trans_complete = linkage_chromossomes(geneA = ['R'], geneB = ['S'] , cis = False,percentage_of_crossingover = 0)\n",
        "trans_complete"
      ],
      "execution_count": 5,
      "outputs": [
        {
          "output_type": "stream",
          "name": "stdout",
          "text": [
            "Complete Linkage (Without Crossing-Over)\n",
            "Parental Chromossomes:\n",
            "P1:Rs/Rs\n",
            "P2:rS/rS\n",
            "------------------------\n",
            "F1:Rs/rS\n",
            "Recombinants Gametes:RS,rs\n",
            "Paternal  Gametes:Rs,rS\n",
            "Frequency of Recombination: 0.0\n",
            "Frequency of Crossing-Over (observed by chiasmas): 0\n",
            "Genes: 0.0cM (centimorgans) far apart\n"
          ]
        },
        {
          "output_type": "execute_result",
          "data": {
            "text/plain": [
              "{'Rs': 2000, 'rS': 2000}"
            ]
          },
          "metadata": {},
          "execution_count": 5
        },
        {
          "output_type": "display_data",
          "data": {
            "image/png": "[encoded data removed]",
            "text/plain": [
              "<Figure size 432x288 with 1 Axes>"
            ]
          },
          "metadata": {
            "needs_background": "light"
          }
        }
      ]
    },
    {
      "cell_type": "code",
      "metadata": {
        "colab": {
          "base_uri": "https://localhost:8080/",
          "height": 476
        },
        "id": "TSYS1BtgNAq7",
        "outputId": "c33d5137-f69d-4c21-c52e-cd4dd5a0807a"
      },
      "source": [
        "cis_complete = linkage_chromossomes(geneA = ['R'], geneB = ['S'] , cis = True ,percentage_of_crossingover = 0)\n",
        "cis_complete"
      ],
      "execution_count": 6,
      "outputs": [
        {
          "output_type": "stream",
          "name": "stdout",
          "text": [
            "Complete Linkage (Without Crossing-Over)\n",
            "Parental Chromossomes:\n",
            "P1:RS/RS\n",
            "P2:rs/rs\n",
            "------------------------\n",
            "F1:RS/rs\n",
            "Recombinants Gametes:Rs,rS\n",
            "Paternal  Gametes:RS,rs\n",
            "Frequency of Recombination: 0.0\n",
            "Frequency of Crossing-Over (observed by chiasmas): 0\n",
            "Genes: 0.0cM (centimorgans) far apart\n"
          ]
        },
        {
          "output_type": "execute_result",
          "data": {
            "text/plain": [
              "{'RS': 2000, 'rs': 2000}"
            ]
          },
          "metadata": {},
          "execution_count": 6
        },
        {
          "output_type": "display_data",
          "data": {
            "image/png": "[encoded data removed]",
            "text/plain": [
              "<Figure size 432x288 with 1 Axes>"
            ]
          },
          "metadata": {
            "needs_background": "light"
          }
        }
      ]
    }
  ]
}